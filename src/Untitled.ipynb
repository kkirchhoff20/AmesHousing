{
 "cells": [
  {
   "cell_type": "code",
   "execution_count": 2,
   "id": "59e58191",
   "metadata": {},
   "outputs": [
    {
     "ename": "ImportError",
     "evalue": "cannot import name 'PriceEstimator' from 'price_estimator' (C:\\Users\\kbk17\\jupyter-notebooks\\Ames-Housing\\price_estimator\\src\\price_estimator.py)",
     "output_type": "error",
     "traceback": [
      "\u001b[1;31m---------------------------------------------------------------------------\u001b[0m",
      "\u001b[1;31mImportError\u001b[0m                               Traceback (most recent call last)",
      "\u001b[1;32m~\\AppData\\Local\\Temp/ipykernel_1496/611485852.py\u001b[0m in \u001b[0;36m<module>\u001b[1;34m\u001b[0m\n\u001b[1;32m----> 1\u001b[1;33m \u001b[1;32mfrom\u001b[0m \u001b[0mprice_estimator\u001b[0m \u001b[1;32mimport\u001b[0m \u001b[0mPriceEstimator\u001b[0m\u001b[1;33m\u001b[0m\u001b[1;33m\u001b[0m\u001b[0m\n\u001b[0m",
      "\u001b[1;31mImportError\u001b[0m: cannot import name 'PriceEstimator' from 'price_estimator' (C:\\Users\\kbk17\\jupyter-notebooks\\Ames-Housing\\price_estimator\\src\\price_estimator.py)"
     ]
    }
   ],
   "source": [
    "from price_estimator import PriceEstimator"
   ]
  },
  {
   "cell_type": "code",
   "execution_count": 69,
   "id": "757a93af",
   "metadata": {},
   "outputs": [],
   "source": [
    "import pandas as pd\n",
    "import json\n",
    "from sklearn.base import BaseEstimator\n",
    "class PriceEstimator:\n",
    "    \n",
    "    def __init__(self, input_schema : dict, output_schema : dict, trained_model : BaseEstimator, categorical_cols, encoding)->PriceEstimator:\n",
    "        self.input_schema = input_schema\n",
    "        self.output_schema = output_schema\n",
    "        self.trained_model = trained_model\n",
    "        self.encoding = \n",
    "    \n",
    "    def parse_input(self, request : list)->pd.DataFrame:\n",
    "        input_list = []\n",
    "        for r in request:\n",
    "            d = json.loads(r)\n",
    "            input_list.append(d)\n",
    "        input_df = pd.DataFrame.from_records(input_list)\n",
    "        return input_df\n",
    "    \n",
    "    def format_response(self):\n",
    "        pass\n",
    "    \n",
    "    def call_model(self, input_features : pd.DataFrame)->pd.Series:\n",
    "        \n",
    "    \n",
    "    def predict_for_request(self, request : list):\n",
    "        input_df = self.parse_input(request)\n",
    "        "
   ]
  },
  {
   "cell_type": "code",
   "execution_count": 70,
   "id": "02205be2",
   "metadata": {},
   "outputs": [],
   "source": [
    "test_str1 = \"\"\"\n",
    "                {\"Garage Cars\":\"2\",\n",
    "                    \"Tot Bsmnt SF\":\"800\"}\n",
    "            \"\"\"\n",
    "test_str2 = \"\"\"\n",
    "                {\"Garage Cars\":\"5\",\n",
    "                    \"Tot Bsmnt SF\":\"800\"}\n",
    "            \"\"\""
   ]
  },
  {
   "cell_type": "code",
   "execution_count": 71,
   "id": "3503f2f2",
   "metadata": {},
   "outputs": [
    {
     "name": "stdout",
     "output_type": "stream",
     "text": [
      "{'Garage Cars': '2', 'Tot Bsmnt SF': '800'}\n"
     ]
    }
   ],
   "source": [
    "d = json.loads(test_str1)\n",
    "print(d)"
   ]
  },
  {
   "cell_type": "code",
   "execution_count": 72,
   "id": "a71c8515",
   "metadata": {},
   "outputs": [
    {
     "data": {
      "text/html": [
       "<div>\n",
       "<style scoped>\n",
       "    .dataframe tbody tr th:only-of-type {\n",
       "        vertical-align: middle;\n",
       "    }\n",
       "\n",
       "    .dataframe tbody tr th {\n",
       "        vertical-align: top;\n",
       "    }\n",
       "\n",
       "    .dataframe thead th {\n",
       "        text-align: right;\n",
       "    }\n",
       "</style>\n",
       "<table border=\"1\" class=\"dataframe\">\n",
       "  <thead>\n",
       "    <tr style=\"text-align: right;\">\n",
       "      <th></th>\n",
       "      <th>Garage Cars</th>\n",
       "      <th>Tot Bsmnt SF</th>\n",
       "    </tr>\n",
       "  </thead>\n",
       "  <tbody>\n",
       "    <tr>\n",
       "      <th>0</th>\n",
       "      <td>2</td>\n",
       "      <td>800</td>\n",
       "    </tr>\n",
       "    <tr>\n",
       "      <th>1</th>\n",
       "      <td>5</td>\n",
       "      <td>800</td>\n",
       "    </tr>\n",
       "  </tbody>\n",
       "</table>\n",
       "</div>"
      ],
      "text/plain": [
       "  Garage Cars Tot Bsmnt SF\n",
       "0           2          800\n",
       "1           5          800"
      ]
     },
     "execution_count": 72,
     "metadata": {},
     "output_type": "execute_result"
    }
   ],
   "source": [
    "estimator = PriceEstimator({}, {}, BaseEstimator())\n",
    "df = estimator.parse_input([test_str1, test_str2])\n",
    "df"
   ]
  },
  {
   "cell_type": "code",
   "execution_count": null,
   "id": "af1f3c42",
   "metadata": {},
   "outputs": [],
   "source": []
  }
 ],
 "metadata": {
  "kernelspec": {
   "display_name": "Python 3 (ipykernel)",
   "language": "python",
   "name": "python3"
  },
  "language_info": {
   "codemirror_mode": {
    "name": "ipython",
    "version": 3
   },
   "file_extension": ".py",
   "mimetype": "text/x-python",
   "name": "python",
   "nbconvert_exporter": "python",
   "pygments_lexer": "ipython3",
   "version": "3.9.5"
  }
 },
 "nbformat": 4,
 "nbformat_minor": 5
}
